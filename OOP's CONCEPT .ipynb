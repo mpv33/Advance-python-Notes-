{
 "cells": [
  {
   "cell_type": "markdown",
   "metadata": {},
   "source": [
    "# Introduction to OOPs in Python\n",
    "Python is a multi-paradigm programming language. Meaning, it supports different programming approach.\n",
    "\n",
    "One of the popular approach to solve a programming problem is by creating objects. This is known as Object-Oriented Programming (OOP)."
   ]
  },
  {
   "cell_type": "markdown",
   "metadata": {},
   "source": [
    "# Class- object:\n",
    "class-A class is a logical grouping of attributes and method.\n",
    "object-it is an instance of a class that has access to all the attributes and method of that class .\n"
   ]
  },
  {
   "cell_type": "code",
   "execution_count": 4,
   "metadata": {},
   "outputs": [],
   "source": [
    "# syntax of class\n",
    "class class_name:\n",
    "    # body of class\n",
    "    pass\n",
    "# syntax of object \n",
    "obj_name=class_name()"
   ]
  },
  {
   "cell_type": "code",
   "execution_count": 9,
   "metadata": {},
   "outputs": [
    {
     "name": "stdout",
     "output_type": "stream",
     "text": [
      "mateshwari\n",
      "22\n"
     ]
    }
   ],
   "source": [
    "# this is a class \n",
    "class person:\n",
    "                                    # attributes-variables\n",
    "    name='mateshwari'\n",
    "    age=22\n",
    "                                   # method -functions\n",
    "    def talk(self):\n",
    "                                   # self :-every instance method accept has a default parameter that is being accepted\n",
    "        print(self.name)           # in self.name : name is a instance attribute\n",
    "        print(self.age)     \n",
    "# this is object \n",
    "p1=person()\n",
    "p1.talk()"
   ]
  },
  {
   "cell_type": "markdown",
   "metadata": {},
   "source": [
    "# Encapsulation :\n",
    "it is nothing but writting attributes and method inside a class .\n",
    "Hiding the implementation detials from the end user is called as encapsulation .\n"
   ]
  },
  {
   "cell_type": "code",
   "execution_count": 11,
   "metadata": {},
   "outputs": [
    {
     "name": "stdout",
     "output_type": "stream",
     "text": [
      "mateshwari\n",
      "22\n",
      "srimt\n",
      "1648510063\n"
     ]
    }
   ],
   "source": [
    "# this is an exam of encapsulation\n",
    "class person:\n",
    "                                    # attributes-variables\n",
    "    name='mateshwari'\n",
    "    age=22\n",
    "    clg='srimt'\n",
    "    ids=1648510063\n",
    "                                   # method -functions\n",
    "    def display(self):\n",
    "                                   # self :-every instance method accept has a default parameter that is being accepted\n",
    "        print(self.name)           # in self.name : name is a instance attribute\n",
    "        print(self.age)\n",
    "        print(self.clg)\n",
    "        print(self.ids)\n",
    "# this is object \n",
    "p1=person()\n",
    "p1.display()"
   ]
  },
  {
   "cell_type": "markdown",
   "metadata": {},
   "source": [
    "# Abstraction:\n",
    "it is the process of step followed to achieved encapsulation.\n"
   ]
  },
  {
   "cell_type": "code",
   "execution_count": null,
   "metadata": {},
   "outputs": [],
   "source": []
  },
  {
   "cell_type": "markdown",
   "metadata": {},
   "source": [
    "# Inheritance:\n",
    "inheriting the attribute and method of a base class into a derived class .\n",
    "1-single: derived class<-single one\n",
    "2-multiple: derived class <- more than one\n",
    "3-multilevel: derived class <- base class + another class"
   ]
  }
 ],
 "metadata": {
  "kernelspec": {
   "display_name": "Python 3",
   "language": "python",
   "name": "python3"
  },
  "language_info": {
   "codemirror_mode": {
    "name": "ipython",
    "version": 3
   },
   "file_extension": ".py",
   "mimetype": "text/x-python",
   "name": "python",
   "nbconvert_exporter": "python",
   "pygments_lexer": "ipython3",
   "version": "3.7.3"
  }
 },
 "nbformat": 4,
 "nbformat_minor": 2
}
