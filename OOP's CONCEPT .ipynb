{
 "cells": [
  {
   "cell_type": "markdown",
   "metadata": {},
   "source": [
    "# Introduction to OOPs in Python\n",
    "Python is a multi-paradigm programming language. Meaning, it supports different programming approach.\n",
    "\n",
    "One of the popular approach to solve a programming problem is by creating objects. This is known as Object-Oriented Programming (OOP)."
   ]
  },
  {
   "cell_type": "markdown",
   "metadata": {},
   "source": [
    "# Class- object:\n",
    "CLASS::class is a logical grouping of attributes and method.\n",
    "OBJECT::object is an instance of a class that has access to all the attributes and method of that class .\n"
   ]
  },
  {
   "cell_type": "code",
   "execution_count": 1,
   "metadata": {},
   "outputs": [
    {
     "name": "stdout",
     "output_type": "stream",
     "text": [
      "95374808\n"
     ]
    },
    {
     "data": {
      "text/plain": [
       "95374752"
      ]
     },
     "execution_count": 1,
     "metadata": {},
     "output_type": "execute_result"
    }
   ],
   "source": [
    "# syntax of class\n",
    "class class_name:\n",
    "    # body of class\n",
    "    pass\n",
    "\n",
    "# syntax of object \n",
    "obj_name=class_name() # this is constructure \n",
    "b1=class_name()\n",
    "\n",
    "print(id(obj_name))\n",
    "id(b1)"
   ]
  },
  {
   "cell_type": "code",
   "execution_count": 4,
   "metadata": {},
   "outputs": [
    {
     "name": "stdout",
     "output_type": "stream",
     "text": [
      "mateshwari\n",
      "22\n"
     ]
    }
   ],
   "source": [
    "# this is a class \n",
    "class person:\n",
    "                                    # attributes-variables\n",
    "    name='mateshwari'\n",
    "    age=22\n",
    "                                   # method -functions\n",
    "    def talk(self):\n",
    "                                   # self :-every instance method accept has a default parameter that is being accepted\n",
    "        print(self.name)           # in self.name : name is a instance attribute\n",
    "        print(self.age)     \n",
    "# this is object \n",
    "p1=person()\n",
    "p1.talk()"
   ]
  },
  {
   "cell_type": "code",
   "execution_count": 7,
   "metadata": {},
   "outputs": [
    {
     "name": "stdout",
     "output_type": "stream",
     "text": [
      "94283480\n",
      "94283312\n",
      "BMW 450000\n",
      "BMW 250000\n"
     ]
    }
   ],
   "source": [
    "class car:\n",
    "    def __init__(self):      \n",
    "        self.com='BMW'          # instance variable   \n",
    "        self.price=250000\n",
    "        \n",
    "c1=car()                       # constructure\n",
    "c2=car()\n",
    "\n",
    "c1.price=450000\n",
    "print(id(c1))\n",
    "print(id(c2))\n",
    "\n",
    "print(c1.com,c1.price)\n",
    "print(c2.com,c2.price)\n",
    "        \n",
    "        \n",
    "\n"
   ]
  },
  {
   "cell_type": "code",
   "execution_count": 2,
   "metadata": {},
   "outputs": [
    {
     "name": "stdout",
     "output_type": "stream",
     "text": [
      "enter your name\n",
      "mpv\n",
      "enter your age\n",
      "22\n",
      "mpv\n",
      "22\n"
     ]
    }
   ],
   "source": [
    "class person:\n",
    "    name=None\n",
    "    age=None\n",
    "    def put_name(self):\n",
    "        print('enter your name')\n",
    "        self.name=input()\n",
    "    def put_age(self):\n",
    "        print('enter your age')\n",
    "        self.age=input()\n",
    "    def get_name(self):\n",
    "        print(self.name)\n",
    "    def get_age(self):\n",
    "        print(self.age)\n",
    "\n",
    "    \n",
    "    \n",
    "ob1=person()\n",
    "\n",
    "ob1.put_name()\n",
    "ob1.put_age()\n",
    "ob1.get_name()\n",
    "ob1.get_age()\n",
    "\n",
    "    \n",
    "    "
   ]
  },
  {
   "cell_type": "markdown",
   "metadata": {},
   "source": [
    "# Encapsulation :\n",
    "it is nothing but writting attributes and method inside a class .\n",
    "Hiding the implementation detials from the end user is called as encapsulation .\n"
   ]
  },
  {
   "cell_type": "code",
   "execution_count": 11,
   "metadata": {},
   "outputs": [
    {
     "name": "stdout",
     "output_type": "stream",
     "text": [
      "mateshwari\n",
      "22\n",
      "srimt\n",
      "1648510063\n"
     ]
    }
   ],
   "source": [
    "# this is an exam of encapsulation\n",
    "class person:\n",
    "                                    # attributes-variables\n",
    "    name='mateshwari'\n",
    "    age=22\n",
    "    clg='srimt'\n",
    "    ids=1648510063\n",
    "                                   # method -functions\n",
    "    def display(self):\n",
    "                                   # self :-every instance method accept has a default parameter that is being accepted\n",
    "        print(self.name)           # in self.name : name is a instance attribute\n",
    "        print(self.age)\n",
    "        print(self.clg)\n",
    "        print(self.ids)\n",
    "# this is object \n",
    "p1=person()\n",
    "p1.display()"
   ]
  },
  {
   "cell_type": "markdown",
   "metadata": {},
   "source": [
    "# Abstraction:\n",
    "it is the process of followed step to achieved encapsulation.\n"
   ]
  },
  {
   "cell_type": "markdown",
   "metadata": {},
   "source": [
    "# Inheritance:\n",
    "inheriting the attribute and method of a base class into a derived class .\n",
    "benfit: *-It represents real-world relationships well.\n",
    "*-It provides reusability of a code. \n",
    "1-single: derived class<-single one\n",
    "2-multiple: derived class <- more than one\n",
    "3-multilevel: derived class <- base class  which hasbeen derived from another from base class .\n"
   ]
  },
  {
   "cell_type": "code",
   "execution_count": 8,
   "metadata": {},
   "outputs": [
    {
     "name": "stdout",
     "output_type": "stream",
     "text": [
      "iam c1\n",
      "iam c2\n"
     ]
    }
   ],
   "source": [
    "#1-single \n",
    "class c1:\n",
    "    def __init__(self):\n",
    "        print('iam c1')\n",
    "class c2(c1):\n",
    "    def __init__(self):\n",
    "        c1.__init__(self)\n",
    "        print('iam c2')\n",
    "ob1=c2()"
   ]
  },
  {
   "cell_type": "code",
   "execution_count": 4,
   "metadata": {},
   "outputs": [
    {
     "name": "stdout",
     "output_type": "stream",
     "text": [
      "Base1\n",
      "Base2\n",
      "Derived\n",
      "Geek1 Geek2\n"
     ]
    }
   ],
   "source": [
    "# 2-Python example to show working of multiple \n",
    "# inheritance \n",
    "class Base1(object): \n",
    "\tdef __init__(self): \n",
    "\t\tself.str1 = \"Geek1\"\n",
    "\t\tprint (\"Base1\")\n",
    "\n",
    "class Base2(object): \n",
    "\tdef __init__(self): \n",
    "\t\tself.str2 = \"Geek2\"\t\t\n",
    "\t\tprint(\"Base2\")\n",
    "\n",
    "class Derived(Base1, Base2): \n",
    "\tdef __init__(self): \n",
    "\t\t\n",
    "\t\t# Calling constructors of Base1 \n",
    "\t\t# and Base2 classes \n",
    "\t\tBase1.__init__(self) \n",
    "\t\tBase2.__init__(self) \n",
    "\t\tprint(\"Derived\")\n",
    "\t\t\n",
    "\tdef printStrs(self): \n",
    "\t\tprint(self.str1, self.str2) \n",
    "\t\t\n",
    "\n",
    "ob = Derived() \n",
    "ob.printStrs() \n"
   ]
  },
  {
   "cell_type": "code",
   "execution_count": 5,
   "metadata": {},
   "outputs": [
    {
     "name": "stdout",
     "output_type": "stream",
     "text": [
      "Geek1 23 Noida\n"
     ]
    }
   ],
   "source": [
    "# A Python program to demonstrate inheritance \n",
    "\n",
    "# Base or Super class. Note object in bracket. \n",
    "# (Generally, object is made ancestor of all classes) \n",
    "# In Python 3.x \"class Person\" is \n",
    "# equivalent to \"class Person(object)\" \n",
    "class Base(object): \n",
    "\t\n",
    "\t# Constructor \n",
    "\tdef __init__(self, name): \n",
    "\t\tself.name = name \n",
    "\n",
    "\t# To get name \n",
    "\tdef getName(self): \n",
    "\t\treturn self.name \n",
    "\n",
    "\n",
    "# Inherited or Sub class (Note Person in bracket) \n",
    "class Child(Base): \n",
    "\t\n",
    "\t# Constructor \n",
    "\tdef __init__(self, name, age): \n",
    "\t\tBase.__init__(self, name) \n",
    "\t\tself.age = age \n",
    "\n",
    "\t# To get name \n",
    "\tdef getAge(self): \n",
    "\t\treturn self.age \n",
    "\n",
    "# Inherited or Sub class (Note Person in bracket) \n",
    "class GrandChild(Child): \n",
    "\t\n",
    "\t# Constructor \n",
    "\tdef __init__(self, name, age, address): \n",
    "\t\tChild.__init__(self, name, age) \n",
    "\t\tself.address = address \n",
    "\n",
    "\t# To get address \n",
    "\tdef getAddress(self): \n",
    "\t\treturn self.address\t\t \n",
    "\n",
    "# Driver code \n",
    "g = GrandChild(\"Geek1\", 23, \"Noida\") \n",
    "print(g.getName(), g.getAge(), g.getAddress()) \n"
   ]
  },
  {
   "cell_type": "markdown",
   "metadata": {},
   "source": [
    "# Polymorphism in Python\n",
    "What is Polymorphism : The word polymorphism means having many forms. In programming, polymorphism means same function name (but different signatures) being uses for different types.\n",
    " process of re-implementing a method in the child class is known as Method Overriding."
   ]
  },
  {
   "cell_type": "code",
   "execution_count": 9,
   "metadata": {},
   "outputs": [
    {
     "name": "stdout",
     "output_type": "stream",
     "text": [
      "5\n",
      "3\n"
     ]
    }
   ],
   "source": [
    "# Python program to demonstrate in-built poly- \n",
    "# morphic functions \n",
    "\n",
    "# len() being used for a string \n",
    "print(len(\"geeks\")) \n",
    "\n",
    "# len() being used for a list \n",
    "print(len([10, 20, 30])) \n"
   ]
  },
  {
   "cell_type": "code",
   "execution_count": 10,
   "metadata": {},
   "outputs": [
    {
     "name": "stdout",
     "output_type": "stream",
     "text": [
      "5\n",
      "9\n"
     ]
    }
   ],
   "source": [
    "# A simple Python function to demonstrate \n",
    "# Polymorphism \n",
    "\n",
    "def add(x, y, z = 0): \n",
    "\treturn x + y+z \n",
    "\n",
    "# Driver code \n",
    "print(add(2, 3)) \n",
    "print(add(2, 3, 4)) \n"
   ]
  },
  {
   "cell_type": "code",
   "execution_count": 11,
   "metadata": {},
   "outputs": [
    {
     "name": "stdout",
     "output_type": "stream",
     "text": [
      "New Delhi is the capital of India.\n",
      "Hindi the primary language of India.\n",
      "India is a developing country.\n",
      "Washington, D.C. is the capital of USA.\n",
      "English is the primary language of USA.\n",
      "USA is a developed country.\n"
     ]
    }
   ],
   "source": [
    "class India(): \n",
    "\tdef capital(self): \n",
    "\t\tprint(\"New Delhi is the capital of India.\") \n",
    "\n",
    "\tdef language(self): \n",
    "\t\tprint(\"Hindi the primary language of India.\") \n",
    "\n",
    "\tdef type(self): \n",
    "\t\tprint(\"India is a developing country.\") \n",
    "\n",
    "class USA(): \n",
    "\tdef capital(self): \n",
    "\t\tprint(\"Washington, D.C. is the capital of USA.\") \n",
    "\n",
    "\tdef language(self): \n",
    "\t\tprint(\"English is the primary language of USA.\") \n",
    "\n",
    "\tdef type(self): \n",
    "\t\tprint(\"USA is a developed country.\") \n",
    "\n",
    "def func(obj): \n",
    "\tobj.capital() \n",
    "\tobj.language() \n",
    "\tobj.type() \n",
    "\n",
    "obj_ind = India() \n",
    "obj_usa = USA() \n",
    "\n",
    "func(obj_ind) \n",
    "func(obj_usa) \n"
   ]
  },
  {
   "cell_type": "code",
   "execution_count": null,
   "metadata": {},
   "outputs": [],
   "source": []
  }
 ],
 "metadata": {
  "kernelspec": {
   "display_name": "Python 3",
   "language": "python",
   "name": "python3"
  },
  "language_info": {
   "codemirror_mode": {
    "name": "ipython",
    "version": 3
   },
   "file_extension": ".py",
   "mimetype": "text/x-python",
   "name": "python",
   "nbconvert_exporter": "python",
   "pygments_lexer": "ipython3",
   "version": "3.7.3"
  }
 },
 "nbformat": 4,
 "nbformat_minor": 2
}
