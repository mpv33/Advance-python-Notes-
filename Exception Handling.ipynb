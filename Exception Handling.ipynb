{
 "cells": [
  {
   "cell_type": "markdown",
   "metadata": {},
   "source": [
    "# Exception Handling\n",
    "Like other languages, python also provides the runtime errors via exception handling method with the help of try-except. Some of the standard exceptions which are most frequent include IndexError, ImportError, IOError, ZeroDivisionError, TypeError."
   ]
  },
  {
   "cell_type": "markdown",
   "metadata": {},
   "source": [
    "# Try and except block "
   ]
  },
  {
   "cell_type": "code",
   "execution_count": 1,
   "metadata": {},
   "outputs": [
    {
     "name": "stdout",
     "output_type": "stream",
     "text": [
      "Second element = 2\n",
      "An error occurred\n"
     ]
    }
   ],
   "source": [
    "# Python program to handle simple runtime error \n",
    "\n",
    "a = [1, 2, 3] \n",
    "try: \n",
    "\tprint (\"Second element = %d\" %(a[1]) )\n",
    "\n",
    "\t# Throws error since there are only 3 elements in array \n",
    "\tprint (\"Fourth element = %d\" %(a[3]) )\n",
    "\n",
    "except IndexError: \n",
    "\tprint (\"An error occurred\")\n"
   ]
  },
  {
   "cell_type": "code",
   "execution_count": 2,
   "metadata": {},
   "outputs": [
    {
     "name": "stdout",
     "output_type": "stream",
     "text": [
      "\n",
      "Error Occurred and Handled\n"
     ]
    }
   ],
   "source": [
    "# Program to handle multiple errors with one except statement \n",
    "try : \n",
    "\ta = 3\n",
    "\tif a < 4 : \n",
    "\n",
    "\t\t# throws ZeroDivisionError for a = 3 \n",
    "\t\tb = a/(a-3) \n",
    "\t\n",
    "\t# throws NameError if a >= 4 \n",
    "\tprint (\"Value of b = \", b )\n",
    "\n",
    "# note that braces () are necessary here for multiple exceptions \n",
    "except(ZeroDivisionError, NameError): \n",
    "\tprint (\"\\nError Occurred and Handled\")\n"
   ]
  },
  {
   "cell_type": "markdown",
   "metadata": {},
   "source": [
    "# try with else block"
   ]
  },
  {
   "cell_type": "code",
   "execution_count": 3,
   "metadata": {},
   "outputs": [
    {
     "name": "stdout",
     "output_type": "stream",
     "text": [
      "else block working -5.0\n",
      "a/b result in 0\n"
     ]
    }
   ],
   "source": [
    "# Program to depict else clause with try-except \n",
    "\n",
    "# Function which returns a/b \n",
    "def AbyB(a , b): \n",
    "\ttry: \n",
    "\t\tc = ((a+b) / (a-b)) \n",
    "\texcept ZeroDivisionError: \n",
    "\t\tprint (\"a/b result in 0\")\n",
    "\telse: \n",
    "\t\tprint( 'else block working',c )\n",
    "\n",
    "# Driver program to test above function \n",
    "AbyB(2.0, 3.0) \n",
    "AbyB(3.0, 3.0) \n"
   ]
  },
  {
   "cell_type": "markdown",
   "metadata": {},
   "source": [
    "# exception ArithmeticError\n",
    "This class is the base class for those built-in exceptions that are raised for various arithmetic errors such as :\n",
    "OverflowError,\n",
    "ZeroDivisionError,\n",
    "FloatingPointError"
   ]
  },
  {
   "cell_type": "code",
   "execution_count": 8,
   "metadata": {},
   "outputs": [
    {
     "name": "stdout",
     "output_type": "stream",
     "text": [
      "This statement is raising an arithmetic exception.\n"
     ]
    }
   ],
   "source": [
    "try: \n",
    "\ta = 10/0\n",
    "\tprint (a) \n",
    "except ArithmeticError: \n",
    "\t\tprint (\"This statement is raising an arithmetic exception.\")\n",
    "else: \n",
    "\tprint (\"Success.\")\n"
   ]
  },
  {
   "cell_type": "markdown",
   "metadata": {},
   "source": [
    "# exception LookupError\n",
    "This is the base class for those exceptions that are raised when a key or index used on a mapping or sequence is invalid or not found. The exceptions raised are :\n",
    "KeyError,\n",
    "IndexError"
   ]
  },
  {
   "cell_type": "code",
   "execution_count": 6,
   "metadata": {},
   "outputs": [
    {
     "name": "stdout",
     "output_type": "stream",
     "text": [
      "Index out of bound error.\n",
      "finall block execute always \n"
     ]
    }
   ],
   "source": [
    "try: \n",
    "\ta = [1, 2, 3] \n",
    "\tprint (a[3]) \n",
    "except LookupError: \n",
    "\tprint (\"Index out of bound error.\")\n",
    "else: \n",
    "\tprint (\"Success\")\n",
    "finally:\n",
    "    print('finall block execute always ')\n",
    "\n"
   ]
  },
  {
   "cell_type": "markdown",
   "metadata": {},
   "source": [
    "# exception EOFError\n",
    "An EOFError is raised when built-in functions like input() hits an end-of-file condition (EOF) without reading any data. The file methods like readline() return an empty string when they hit EOF.\n"
   ]
  },
  {
   "cell_type": "code",
   "execution_count": null,
   "metadata": {},
   "outputs": [],
   "source": []
  },
  {
   "cell_type": "code",
   "execution_count": null,
   "metadata": {},
   "outputs": [],
   "source": []
  }
 ],
 "metadata": {
  "kernelspec": {
   "display_name": "Python 3",
   "language": "python",
   "name": "python3"
  },
  "language_info": {
   "codemirror_mode": {
    "name": "ipython",
    "version": 3
   },
   "file_extension": ".py",
   "mimetype": "text/x-python",
   "name": "python",
   "nbconvert_exporter": "python",
   "pygments_lexer": "ipython3",
   "version": "3.7.3"
  }
 },
 "nbformat": 4,
 "nbformat_minor": 2
}
