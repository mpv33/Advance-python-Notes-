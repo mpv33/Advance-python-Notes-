{
 "cells": [
  {
   "cell_type": "markdown",
   "metadata": {},
   "source": [
    "# Why RE  needs:-\n",
    "<h3>1-verify e-mail addresses</h3>\n",
    "<h3>2-verify phone num are correct or not \n"
   ]
  },
  {
   "cell_type": "code",
   "execution_count": 3,
   "metadata": {},
   "outputs": [],
   "source": [
    "import re"
   ]
  },
  {
   "cell_type": "markdown",
   "metadata": {},
   "source": [
    "# find digit in text "
   ]
  },
  {
   "cell_type": "code",
   "execution_count": 4,
   "metadata": {},
   "outputs": [
    {
     "data": {
      "text/plain": [
       "['23', '45', '34', '67']"
      ]
     },
     "execution_count": 4,
     "metadata": {},
     "output_type": "execute_result"
    }
   ],
   "source": [
    "name_age='''\n",
    "ram is 23 and mohan is  45 \n",
    "and raju is 34 and 67 '''\n",
    "age=re.findall(r'\\d{2}',name_age)      # d is represent o-9 digit and {x} its x  represent size of max digit \n",
    "age\n"
   ]
  },
  {
   "cell_type": "markdown",
   "metadata": {},
   "source": [
    "# search function "
   ]
  },
  {
   "cell_type": "code",
   "execution_count": 5,
   "metadata": {},
   "outputs": [
    {
     "name": "stdout",
     "output_type": "stream",
     "text": [
      "Yes mpv is programmer\n"
     ]
    }
   ],
   "source": [
    "s='mpv is coder of cp at hacker rank'\n",
    "if re.search('coder',s):\n",
    "    print('Yes mpv is programmer')"
   ]
  },
  {
   "cell_type": "markdown",
   "metadata": {},
   "source": [
    "# find  specific pattern "
   ]
  },
  {
   "cell_type": "code",
   "execution_count": 6,
   "metadata": {},
   "outputs": [
    {
     "name": "stdout",
     "output_type": "stream",
     "text": [
      "['sat', 'cat']\n"
     ]
    },
    {
     "data": {
      "text/plain": [
       "['hat', 'mat', 'cat', 'gat']"
      ]
     },
     "execution_count": 6,
     "metadata": {},
     "output_type": "execute_result"
    }
   ],
   "source": [
    "text='hat,mat,sat,cat,gat,rat'\n",
    "pattern1=re.findall('[sc]at',text)      # sc-maens start with s or c and after this end with at form pattern \n",
    "print(pattern1)\n",
    "p2=re.findall('[c-m]at',text)  # regne c-m all str start with print here \n",
    "p2"
   ]
  },
  {
   "cell_type": "markdown",
   "metadata": {},
   "source": [
    "# Phone_num verification"
   ]
  },
  {
   "cell_type": "code",
   "execution_count": 7,
   "metadata": {},
   "outputs": [
    {
     "name": "stdout",
     "output_type": "stream",
     "text": [
      "Yes this is valid number\n",
      "not valid \n"
     ]
    }
   ],
   "source": [
    "f=['123-456-7890','456-3456-123']\n",
    "for i in f:\n",
    "    if re.search('\\d{3}-\\d{3}-\\d{4}',i):\n",
    "        print('Yes this is valid number')\n",
    "    else:\n",
    "        print('not valid ')"
   ]
  },
  {
   "cell_type": "markdown",
   "metadata": {},
   "source": [
    "# E-mail verification"
   ]
  },
  {
   "cell_type": "code",
   "execution_count": 8,
   "metadata": {},
   "outputs": [
    {
     "name": "stdout",
     "output_type": "stream",
     "text": [
      "valid\n",
      "unvalid\n"
     ]
    }
   ],
   "source": [
    "e_mail=['mpv33@gmail.com','raju232@gmail.%company']\n",
    "for i in e_mail:\n",
    "    if re.search('\\w{2,20}@\\w{2,5}.[a-z]{3}',i):\n",
    "        print('valid')\n",
    "    else:\n",
    "        print('unvalid')\n",
    "        "
   ]
  },
  {
   "cell_type": "markdown",
   "metadata": {},
   "source": [
    "# Web screping"
   ]
  },
  {
   "cell_type": "code",
   "execution_count": 9,
   "metadata": {},
   "outputs": [],
   "source": [
    "# coming soon "
   ]
  },
  {
   "cell_type": "code",
   "execution_count": null,
   "metadata": {},
   "outputs": [],
   "source": []
  }
 ],
 "metadata": {
  "kernelspec": {
   "display_name": "Python 3",
   "language": "python",
   "name": "python3"
  },
  "language_info": {
   "codemirror_mode": {
    "name": "ipython",
    "version": 3
   },
   "file_extension": ".py",
   "mimetype": "text/x-python",
   "name": "python",
   "nbconvert_exporter": "python",
   "pygments_lexer": "ipython3",
   "version": "3.7.3"
  }
 },
 "nbformat": 4,
 "nbformat_minor": 2
}
