{
 "cells": [
  {
   "cell_type": "markdown",
   "metadata": {},
   "source": [
    "# product fun work "
   ]
  },
  {
   "cell_type": "code",
   "execution_count": 5,
   "metadata": {},
   "outputs": [
    {
     "name": "stdout",
     "output_type": "stream",
     "text": [
      "14\n",
      "15\n",
      "16\n",
      "24\n",
      "25\n",
      "26\n",
      "34\n",
      "35\n",
      "36\n"
     ]
    }
   ],
   "source": [
    "from itertools import *\n",
    "# working of product function\n",
    "\n",
    "a=['1','2','3']\n",
    "b=['4','5','6']\n",
    "x=product(a,b)\n",
    "for a,b in x:\n",
    "    print(a+b)\n"
   ]
  },
  {
   "cell_type": "markdown",
   "metadata": {},
   "source": [
    "# combination "
   ]
  },
  {
   "cell_type": "code",
   "execution_count": 6,
   "metadata": {},
   "outputs": [
    {
     "name": "stdout",
     "output_type": "stream",
     "text": [
      "1 2\n",
      "1 3\n",
      "1 4\n",
      "1 5\n",
      "1 6\n",
      "2 3\n",
      "2 4\n",
      "2 5\n",
      "2 6\n",
      "3 4\n",
      "3 5\n",
      "3 6\n",
      "4 5\n",
      "4 6\n",
      "5 6\n"
     ]
    }
   ],
   "source": [
    "# work of combinations fun \n",
    "\n",
    "l=[1,2,3,4,5,6]\n",
    "x=combinations(l,2)\n",
    "for i in x:\n",
    "    print(*i)"
   ]
  },
  {
   "cell_type": "markdown",
   "metadata": {},
   "source": [
    "# permutation "
   ]
  },
  {
   "cell_type": "code",
   "execution_count": 7,
   "metadata": {
    "scrolled": true
   },
   "outputs": [
    {
     "name": "stdout",
     "output_type": "stream",
     "text": [
      "ABC\n",
      "ABC ACB BAC BCA CAB CBA \n"
     ]
    }
   ],
   "source": [
    "s = list(input())\n",
    "seq=permutations(sorted(s))\n",
    "for j in seq:\n",
    "    print(\"\".join(j),end=\" \")\n",
    "print()"
   ]
  },
  {
   "cell_type": "code",
   "execution_count": null,
   "metadata": {},
   "outputs": [],
   "source": []
  }
 ],
 "metadata": {
  "kernelspec": {
   "display_name": "Python 3",
   "language": "python",
   "name": "python3"
  },
  "language_info": {
   "codemirror_mode": {
    "name": "ipython",
    "version": 3
   },
   "file_extension": ".py",
   "mimetype": "text/x-python",
   "name": "python",
   "nbconvert_exporter": "python",
   "pygments_lexer": "ipython3",
   "version": "3.7.3"
  }
 },
 "nbformat": 4,
 "nbformat_minor": 2
}
